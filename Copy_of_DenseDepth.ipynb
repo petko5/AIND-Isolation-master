{
  "nbformat": 4,
  "nbformat_minor": 0,
  "metadata": {
    "colab": {
      "name": "Copy of DenseDepth",
      "provenance": [],
      "collapsed_sections": [],
      "include_colab_link": true
    },
    "kernelspec": {
      "name": "python3",
      "display_name": "Python 3"
    },
    "accelerator": "GPU"
  },
  "cells": [
    {
      "cell_type": "markdown",
      "metadata": {
        "id": "view-in-github",
        "colab_type": "text"
      },
      "source": [
        "<a href=\"https://colab.research.google.com/github/petko5/AIND-Isolation-master/blob/master/Copy_of_DenseDepth.ipynb\" target=\"_parent\"><img src=\"https://colab.research.google.com/assets/colab-badge.svg\" alt=\"Open In Colab\"/></a>"
      ]
    },
    {
      "cell_type": "code",
      "metadata": {
        "id": "ahkR4C5dEnR0",
        "colab": {
          "base_uri": "https://localhost:8080/"
        },
        "outputId": "617b6900-bc8e-4fc9-890d-9e6e0afbdeeb"
      },
      "source": [
        "#clone DenseDepth\n",
        "!git clone https://github.com/ialhashim/DenseDepth.git"
      ],
      "execution_count": 1,
      "outputs": [
        {
          "output_type": "stream",
          "text": [
            "Cloning into 'DenseDepth'...\n",
            "remote: Enumerating objects: 263, done.\u001b[K\n",
            "remote: Counting objects: 100% (21/21), done.\u001b[K\n",
            "remote: Compressing objects: 100% (17/17), done.\u001b[K\n",
            "remote: Total 263 (delta 8), reused 15 (delta 4), pack-reused 242\u001b[K\n",
            "Receiving objects: 100% (263/263), 12.13 MiB | 32.00 MiB/s, done.\n",
            "Resolving deltas: 100% (127/127), done.\n"
          ],
          "name": "stdout"
        }
      ]
    },
    {
      "cell_type": "code",
      "metadata": {
        "id": "fFQgwMlNExak",
        "colab": {
          "base_uri": "https://localhost:8080/"
        },
        "outputId": "0b5509c5-b354-41bb-d337-b056f4eaec90"
      },
      "source": [
        "#get weights\n",
        "!wget https://s3-eu-west-1.amazonaws.com/densedepth/nyu.h5 -O ./DenseDepth/nyu.h5"
      ],
      "execution_count": 2,
      "outputs": [
        {
          "output_type": "stream",
          "text": [
            "--2021-06-26 17:03:39--  https://s3-eu-west-1.amazonaws.com/densedepth/nyu.h5\n",
            "Resolving s3-eu-west-1.amazonaws.com (s3-eu-west-1.amazonaws.com)... 52.218.28.107\n",
            "Connecting to s3-eu-west-1.amazonaws.com (s3-eu-west-1.amazonaws.com)|52.218.28.107|:443... connected.\n",
            "HTTP request sent, awaiting response... 200 OK\n",
            "Length: 172897376 (165M) [application/h5]\n",
            "Saving to: ‘./DenseDepth/nyu.h5’\n",
            "\n",
            "./DenseDepth/nyu.h5 100%[===================>] 164.89M  20.6MB/s    in 9.2s    \n",
            "\n",
            "2021-06-26 17:03:49 (17.9 MB/s) - ‘./DenseDepth/nyu.h5’ saved [172897376/172897376]\n",
            "\n"
          ],
          "name": "stdout"
        }
      ]
    },
    {
      "cell_type": "code",
      "metadata": {
        "id": "KPQO_oObvxtY",
        "colab": {
          "base_uri": "https://localhost:8080/"
        },
        "outputId": "774bd6b2-4c2a-4afd-f036-214fa13cb9ad"
      },
      "source": [
        "#!wget  https://github.com/tensorflow/tensorflow/archive/v1.15.3.tar.gz\n",
        "\n",
        "#get correct TF version installed to match DenseDepth (not TF 2.0+)\n",
        "!pip install tensorflow-gpu==1.15.3\n"
      ],
      "execution_count": 4,
      "outputs": [
        {
          "output_type": "stream",
          "text": [
            "Collecting tensorflow==1.15.3\n",
            "\u001b[?25l  Downloading https://files.pythonhosted.org/packages/c7/d3/4501a075355733b90bc384c900ae4f84df702c340f4034741647c63a5acd/tensorflow-1.15.3-cp37-cp37m-manylinux2010_x86_64.whl (110.5MB)\n",
            "\u001b[K     |████████████████████████████████| 110.5MB 65kB/s \n",
            "\u001b[?25hRequirement already satisfied: wrapt>=1.11.1 in /usr/local/lib/python3.7/dist-packages (from tensorflow==1.15.3) (1.12.1)\n",
            "Collecting tensorboard<1.16.0,>=1.15.0\n",
            "\u001b[?25l  Downloading https://files.pythonhosted.org/packages/1e/e9/d3d747a97f7188f48aa5eda486907f3b345cd409f0a0850468ba867db246/tensorboard-1.15.0-py3-none-any.whl (3.8MB)\n",
            "\u001b[K     |████████████████████████████████| 3.8MB 48.7MB/s \n",
            "\u001b[?25hRequirement already satisfied: astor>=0.6.0 in /usr/local/lib/python3.7/dist-packages (from tensorflow==1.15.3) (0.8.1)\n",
            "Requirement already satisfied: protobuf>=3.6.1 in /usr/local/lib/python3.7/dist-packages (from tensorflow==1.15.3) (3.12.4)\n",
            "Requirement already satisfied: wheel>=0.26; python_version >= \"3\" in /usr/local/lib/python3.7/dist-packages (from tensorflow==1.15.3) (0.36.2)\n",
            "Requirement already satisfied: grpcio>=1.8.6 in /usr/local/lib/python3.7/dist-packages (from tensorflow==1.15.3) (1.34.1)\n",
            "Requirement already satisfied: six>=1.10.0 in /usr/local/lib/python3.7/dist-packages (from tensorflow==1.15.3) (1.15.0)\n",
            "Requirement already satisfied: termcolor>=1.1.0 in /usr/local/lib/python3.7/dist-packages (from tensorflow==1.15.3) (1.1.0)\n",
            "Collecting tensorflow-estimator==1.15.1\n",
            "\u001b[?25l  Downloading https://files.pythonhosted.org/packages/de/62/2ee9cd74c9fa2fa450877847ba560b260f5d0fb70ee0595203082dafcc9d/tensorflow_estimator-1.15.1-py2.py3-none-any.whl (503kB)\n",
            "\u001b[K     |████████████████████████████████| 512kB 42.1MB/s \n",
            "\u001b[?25hRequirement already satisfied: google-pasta>=0.1.6 in /usr/local/lib/python3.7/dist-packages (from tensorflow==1.15.3) (0.2.0)\n",
            "Collecting keras-applications>=1.0.8\n",
            "\u001b[?25l  Downloading https://files.pythonhosted.org/packages/71/e3/19762fdfc62877ae9102edf6342d71b28fbfd9dea3d2f96a882ce099b03f/Keras_Applications-1.0.8-py3-none-any.whl (50kB)\n",
            "\u001b[K     |████████████████████████████████| 51kB 9.9MB/s \n",
            "\u001b[?25hRequirement already satisfied: numpy<2.0,>=1.16.0 in /usr/local/lib/python3.7/dist-packages (from tensorflow==1.15.3) (1.19.5)\n",
            "Requirement already satisfied: opt-einsum>=2.3.2 in /usr/local/lib/python3.7/dist-packages (from tensorflow==1.15.3) (3.3.0)\n",
            "Requirement already satisfied: keras-preprocessing>=1.0.5 in /usr/local/lib/python3.7/dist-packages (from tensorflow==1.15.3) (1.1.2)\n",
            "Collecting gast==0.2.2\n",
            "  Downloading https://files.pythonhosted.org/packages/4e/35/11749bf99b2d4e3cceb4d55ca22590b0d7c2c62b9de38ac4a4a7f4687421/gast-0.2.2.tar.gz\n",
            "Requirement already satisfied: absl-py>=0.7.0 in /usr/local/lib/python3.7/dist-packages (from tensorflow==1.15.3) (0.12.0)\n",
            "Requirement already satisfied: setuptools>=41.0.0 in /usr/local/lib/python3.7/dist-packages (from tensorboard<1.16.0,>=1.15.0->tensorflow==1.15.3) (57.0.0)\n",
            "Requirement already satisfied: werkzeug>=0.11.15 in /usr/local/lib/python3.7/dist-packages (from tensorboard<1.16.0,>=1.15.0->tensorflow==1.15.3) (1.0.1)\n",
            "Requirement already satisfied: markdown>=2.6.8 in /usr/local/lib/python3.7/dist-packages (from tensorboard<1.16.0,>=1.15.0->tensorflow==1.15.3) (3.3.4)\n",
            "Requirement already satisfied: h5py in /usr/local/lib/python3.7/dist-packages (from keras-applications>=1.0.8->tensorflow==1.15.3) (3.1.0)\n",
            "Requirement already satisfied: importlib-metadata; python_version < \"3.8\" in /usr/local/lib/python3.7/dist-packages (from markdown>=2.6.8->tensorboard<1.16.0,>=1.15.0->tensorflow==1.15.3) (4.5.0)\n",
            "Requirement already satisfied: cached-property; python_version < \"3.8\" in /usr/local/lib/python3.7/dist-packages (from h5py->keras-applications>=1.0.8->tensorflow==1.15.3) (1.5.2)\n",
            "Requirement already satisfied: typing-extensions>=3.6.4; python_version < \"3.8\" in /usr/local/lib/python3.7/dist-packages (from importlib-metadata; python_version < \"3.8\"->markdown>=2.6.8->tensorboard<1.16.0,>=1.15.0->tensorflow==1.15.3) (3.7.4.3)\n",
            "Requirement already satisfied: zipp>=0.5 in /usr/local/lib/python3.7/dist-packages (from importlib-metadata; python_version < \"3.8\"->markdown>=2.6.8->tensorboard<1.16.0,>=1.15.0->tensorflow==1.15.3) (3.4.1)\n",
            "Building wheels for collected packages: gast\n",
            "  Building wheel for gast (setup.py) ... \u001b[?25l\u001b[?25hdone\n",
            "  Created wheel for gast: filename=gast-0.2.2-cp37-none-any.whl size=7557 sha256=c5308247da71a2bb86b971aad56087fdde5689014d05eb1862405bfed4ce8b7e\n",
            "  Stored in directory: /root/.cache/pip/wheels/5c/2e/7e/a1d4d4fcebe6c381f378ce7743a3ced3699feb89bcfbdadadd\n",
            "Successfully built gast\n",
            "\u001b[31mERROR: tensorflow-probability 0.12.1 has requirement gast>=0.3.2, but you'll have gast 0.2.2 which is incompatible.\u001b[0m\n",
            "\u001b[31mERROR: kapre 0.3.5 has requirement tensorflow>=2.0.0, but you'll have tensorflow 1.15.3 which is incompatible.\u001b[0m\n",
            "Installing collected packages: tensorboard, tensorflow-estimator, keras-applications, gast, tensorflow\n",
            "  Found existing installation: tensorboard 2.5.0\n",
            "    Uninstalling tensorboard-2.5.0:\n",
            "      Successfully uninstalled tensorboard-2.5.0\n",
            "  Found existing installation: tensorflow-estimator 2.5.0\n",
            "    Uninstalling tensorflow-estimator-2.5.0:\n",
            "      Successfully uninstalled tensorflow-estimator-2.5.0\n",
            "  Found existing installation: gast 0.4.0\n",
            "    Uninstalling gast-0.4.0:\n",
            "      Successfully uninstalled gast-0.4.0\n",
            "  Found existing installation: tensorflow 2.5.0\n",
            "    Uninstalling tensorflow-2.5.0:\n",
            "      Successfully uninstalled tensorflow-2.5.0\n",
            "Successfully installed gast-0.2.2 keras-applications-1.0.8 tensorboard-1.15.0 tensorflow-1.15.3 tensorflow-estimator-1.15.1\n"
          ],
          "name": "stdout"
        }
      ]
    },
    {
      "cell_type": "code",
      "metadata": {
        "id": "AiJKd6uLE9Gr",
        "colab": {
          "base_uri": "https://localhost:8080/"
        },
        "outputId": "7dcb94e7-520d-4ef2-9970-23e127fa0303"
      },
      "source": [
        "from matplotlib import pyplot as plt\n",
        "from skimage import io\n",
        "!cd DenseDepth; python test.py"
      ],
      "execution_count": 6,
      "outputs": [
        {
          "output_type": "stream",
          "text": [
            "Traceback (most recent call last):\n",
            "  File \"test.py\", line 8, in <module>\n",
            "    from keras.models import load_model\n",
            "  File \"/usr/local/lib/python3.7/dist-packages/keras/__init__.py\", line 25, in <module>\n",
            "    from keras import models\n",
            "  File \"/usr/local/lib/python3.7/dist-packages/keras/models.py\", line 19, in <module>\n",
            "    from keras import backend\n",
            "  File \"/usr/local/lib/python3.7/dist-packages/keras/backend.py\", line 37, in <module>\n",
            "    from tensorflow.python.eager.context import get_config\n",
            "ImportError: cannot import name 'get_config' from 'tensorflow.python.eager.context' (/usr/local/lib/python3.7/dist-packages/tensorflow_core/python/eager/context.py)\n"
          ],
          "name": "stdout"
        }
      ]
    },
    {
      "cell_type": "code",
      "metadata": {
        "id": "HjzqM74-FfyL",
        "colab": {
          "base_uri": "https://localhost:8080/",
          "height": 357
        },
        "outputId": "6ffe953e-31cb-481b-bec4-bc745c7ab218"
      },
      "source": [
        "#need to change original code to display single image vs array of images\n",
        "plt.figure(figsize=(20,20))\n",
        "plt.imshow( io.imread('./DenseDepth/petko_test.png') )"
      ],
      "execution_count": 7,
      "outputs": [
        {
          "output_type": "error",
          "ename": "FileNotFoundError",
          "evalue": "ignored",
          "traceback": [
            "\u001b[0;31m---------------------------------------------------------------------------\u001b[0m",
            "\u001b[0;31mFileNotFoundError\u001b[0m                         Traceback (most recent call last)",
            "\u001b[0;32m<ipython-input-7-e3fa43d442c1>\u001b[0m in \u001b[0;36m<module>\u001b[0;34m()\u001b[0m\n\u001b[1;32m      1\u001b[0m \u001b[0;31m#need to change original code to display single image vs array of images\u001b[0m\u001b[0;34m\u001b[0m\u001b[0;34m\u001b[0m\u001b[0;34m\u001b[0m\u001b[0m\n\u001b[1;32m      2\u001b[0m \u001b[0mplt\u001b[0m\u001b[0;34m.\u001b[0m\u001b[0mfigure\u001b[0m\u001b[0;34m(\u001b[0m\u001b[0mfigsize\u001b[0m\u001b[0;34m=\u001b[0m\u001b[0;34m(\u001b[0m\u001b[0;36m20\u001b[0m\u001b[0;34m,\u001b[0m\u001b[0;36m20\u001b[0m\u001b[0;34m)\u001b[0m\u001b[0;34m)\u001b[0m\u001b[0;34m\u001b[0m\u001b[0;34m\u001b[0m\u001b[0m\n\u001b[0;32m----> 3\u001b[0;31m \u001b[0mplt\u001b[0m\u001b[0;34m.\u001b[0m\u001b[0mimshow\u001b[0m\u001b[0;34m(\u001b[0m \u001b[0mio\u001b[0m\u001b[0;34m.\u001b[0m\u001b[0mimread\u001b[0m\u001b[0;34m(\u001b[0m\u001b[0;34m'./DenseDepth/petko_test.png'\u001b[0m\u001b[0;34m)\u001b[0m \u001b[0;34m)\u001b[0m\u001b[0;34m\u001b[0m\u001b[0;34m\u001b[0m\u001b[0m\n\u001b[0m",
            "\u001b[0;32m/usr/local/lib/python3.7/dist-packages/skimage/io/_io.py\u001b[0m in \u001b[0;36mimread\u001b[0;34m(fname, as_gray, plugin, **plugin_args)\u001b[0m\n\u001b[1;32m     46\u001b[0m \u001b[0;34m\u001b[0m\u001b[0m\n\u001b[1;32m     47\u001b[0m     \u001b[0;32mwith\u001b[0m \u001b[0mfile_or_url_context\u001b[0m\u001b[0;34m(\u001b[0m\u001b[0mfname\u001b[0m\u001b[0;34m)\u001b[0m \u001b[0;32mas\u001b[0m \u001b[0mfname\u001b[0m\u001b[0;34m:\u001b[0m\u001b[0;34m\u001b[0m\u001b[0;34m\u001b[0m\u001b[0m\n\u001b[0;32m---> 48\u001b[0;31m         \u001b[0mimg\u001b[0m \u001b[0;34m=\u001b[0m \u001b[0mcall_plugin\u001b[0m\u001b[0;34m(\u001b[0m\u001b[0;34m'imread'\u001b[0m\u001b[0;34m,\u001b[0m \u001b[0mfname\u001b[0m\u001b[0;34m,\u001b[0m \u001b[0mplugin\u001b[0m\u001b[0;34m=\u001b[0m\u001b[0mplugin\u001b[0m\u001b[0;34m,\u001b[0m \u001b[0;34m**\u001b[0m\u001b[0mplugin_args\u001b[0m\u001b[0;34m)\u001b[0m\u001b[0;34m\u001b[0m\u001b[0;34m\u001b[0m\u001b[0m\n\u001b[0m\u001b[1;32m     49\u001b[0m \u001b[0;34m\u001b[0m\u001b[0m\n\u001b[1;32m     50\u001b[0m     \u001b[0;32mif\u001b[0m \u001b[0;32mnot\u001b[0m \u001b[0mhasattr\u001b[0m\u001b[0;34m(\u001b[0m\u001b[0mimg\u001b[0m\u001b[0;34m,\u001b[0m \u001b[0;34m'ndim'\u001b[0m\u001b[0;34m)\u001b[0m\u001b[0;34m:\u001b[0m\u001b[0;34m\u001b[0m\u001b[0;34m\u001b[0m\u001b[0m\n",
            "\u001b[0;32m/usr/local/lib/python3.7/dist-packages/skimage/io/manage_plugins.py\u001b[0m in \u001b[0;36mcall_plugin\u001b[0;34m(kind, *args, **kwargs)\u001b[0m\n\u001b[1;32m    208\u001b[0m                                (plugin, kind))\n\u001b[1;32m    209\u001b[0m \u001b[0;34m\u001b[0m\u001b[0m\n\u001b[0;32m--> 210\u001b[0;31m     \u001b[0;32mreturn\u001b[0m \u001b[0mfunc\u001b[0m\u001b[0;34m(\u001b[0m\u001b[0;34m*\u001b[0m\u001b[0margs\u001b[0m\u001b[0;34m,\u001b[0m \u001b[0;34m**\u001b[0m\u001b[0mkwargs\u001b[0m\u001b[0;34m)\u001b[0m\u001b[0;34m\u001b[0m\u001b[0;34m\u001b[0m\u001b[0m\n\u001b[0m\u001b[1;32m    211\u001b[0m \u001b[0;34m\u001b[0m\u001b[0m\n\u001b[1;32m    212\u001b[0m \u001b[0;34m\u001b[0m\u001b[0m\n",
            "\u001b[0;32m/usr/local/lib/python3.7/dist-packages/skimage/io/_plugins/imageio_plugin.py\u001b[0m in \u001b[0;36mimread\u001b[0;34m(*args, **kwargs)\u001b[0m\n\u001b[1;32m      8\u001b[0m \u001b[0;34m@\u001b[0m\u001b[0mwraps\u001b[0m\u001b[0;34m(\u001b[0m\u001b[0mimageio_imread\u001b[0m\u001b[0;34m)\u001b[0m\u001b[0;34m\u001b[0m\u001b[0;34m\u001b[0m\u001b[0m\n\u001b[1;32m      9\u001b[0m \u001b[0;32mdef\u001b[0m \u001b[0mimread\u001b[0m\u001b[0;34m(\u001b[0m\u001b[0;34m*\u001b[0m\u001b[0margs\u001b[0m\u001b[0;34m,\u001b[0m \u001b[0;34m**\u001b[0m\u001b[0mkwargs\u001b[0m\u001b[0;34m)\u001b[0m\u001b[0;34m:\u001b[0m\u001b[0;34m\u001b[0m\u001b[0;34m\u001b[0m\u001b[0m\n\u001b[0;32m---> 10\u001b[0;31m     \u001b[0;32mreturn\u001b[0m \u001b[0mnp\u001b[0m\u001b[0;34m.\u001b[0m\u001b[0masarray\u001b[0m\u001b[0;34m(\u001b[0m\u001b[0mimageio_imread\u001b[0m\u001b[0;34m(\u001b[0m\u001b[0;34m*\u001b[0m\u001b[0margs\u001b[0m\u001b[0;34m,\u001b[0m \u001b[0;34m**\u001b[0m\u001b[0mkwargs\u001b[0m\u001b[0;34m)\u001b[0m\u001b[0;34m)\u001b[0m\u001b[0;34m\u001b[0m\u001b[0;34m\u001b[0m\u001b[0m\n\u001b[0m",
            "\u001b[0;32m/usr/local/lib/python3.7/dist-packages/imageio/core/functions.py\u001b[0m in \u001b[0;36mimread\u001b[0;34m(uri, format, **kwargs)\u001b[0m\n\u001b[1;32m    219\u001b[0m \u001b[0;34m\u001b[0m\u001b[0m\n\u001b[1;32m    220\u001b[0m     \u001b[0;31m# Get reader and read first\u001b[0m\u001b[0;34m\u001b[0m\u001b[0;34m\u001b[0m\u001b[0;34m\u001b[0m\u001b[0m\n\u001b[0;32m--> 221\u001b[0;31m     \u001b[0mreader\u001b[0m \u001b[0;34m=\u001b[0m \u001b[0mread\u001b[0m\u001b[0;34m(\u001b[0m\u001b[0muri\u001b[0m\u001b[0;34m,\u001b[0m \u001b[0mformat\u001b[0m\u001b[0;34m,\u001b[0m \u001b[0;34m\"i\"\u001b[0m\u001b[0;34m,\u001b[0m \u001b[0;34m**\u001b[0m\u001b[0mkwargs\u001b[0m\u001b[0;34m)\u001b[0m\u001b[0;34m\u001b[0m\u001b[0;34m\u001b[0m\u001b[0m\n\u001b[0m\u001b[1;32m    222\u001b[0m     \u001b[0;32mwith\u001b[0m \u001b[0mreader\u001b[0m\u001b[0;34m:\u001b[0m\u001b[0;34m\u001b[0m\u001b[0;34m\u001b[0m\u001b[0m\n\u001b[1;32m    223\u001b[0m         \u001b[0;32mreturn\u001b[0m \u001b[0mreader\u001b[0m\u001b[0;34m.\u001b[0m\u001b[0mget_data\u001b[0m\u001b[0;34m(\u001b[0m\u001b[0;36m0\u001b[0m\u001b[0;34m)\u001b[0m\u001b[0;34m\u001b[0m\u001b[0;34m\u001b[0m\u001b[0m\n",
            "\u001b[0;32m/usr/local/lib/python3.7/dist-packages/imageio/core/functions.py\u001b[0m in \u001b[0;36mget_reader\u001b[0;34m(uri, format, mode, **kwargs)\u001b[0m\n\u001b[1;32m    128\u001b[0m \u001b[0;34m\u001b[0m\u001b[0m\n\u001b[1;32m    129\u001b[0m     \u001b[0;31m# Create request object\u001b[0m\u001b[0;34m\u001b[0m\u001b[0;34m\u001b[0m\u001b[0;34m\u001b[0m\u001b[0m\n\u001b[0;32m--> 130\u001b[0;31m     \u001b[0mrequest\u001b[0m \u001b[0;34m=\u001b[0m \u001b[0mRequest\u001b[0m\u001b[0;34m(\u001b[0m\u001b[0muri\u001b[0m\u001b[0;34m,\u001b[0m \u001b[0;34m\"r\"\u001b[0m \u001b[0;34m+\u001b[0m \u001b[0mmode\u001b[0m\u001b[0;34m,\u001b[0m \u001b[0;34m**\u001b[0m\u001b[0mkwargs\u001b[0m\u001b[0;34m)\u001b[0m\u001b[0;34m\u001b[0m\u001b[0;34m\u001b[0m\u001b[0m\n\u001b[0m\u001b[1;32m    131\u001b[0m \u001b[0;34m\u001b[0m\u001b[0m\n\u001b[1;32m    132\u001b[0m     \u001b[0;31m# Get format\u001b[0m\u001b[0;34m\u001b[0m\u001b[0;34m\u001b[0m\u001b[0;34m\u001b[0m\u001b[0m\n",
            "\u001b[0;32m/usr/local/lib/python3.7/dist-packages/imageio/core/request.py\u001b[0m in \u001b[0;36m__init__\u001b[0;34m(self, uri, mode, **kwargs)\u001b[0m\n\u001b[1;32m    123\u001b[0m \u001b[0;34m\u001b[0m\u001b[0m\n\u001b[1;32m    124\u001b[0m         \u001b[0;31m# Parse what was given\u001b[0m\u001b[0;34m\u001b[0m\u001b[0;34m\u001b[0m\u001b[0;34m\u001b[0m\u001b[0m\n\u001b[0;32m--> 125\u001b[0;31m         \u001b[0mself\u001b[0m\u001b[0;34m.\u001b[0m\u001b[0m_parse_uri\u001b[0m\u001b[0;34m(\u001b[0m\u001b[0muri\u001b[0m\u001b[0;34m)\u001b[0m\u001b[0;34m\u001b[0m\u001b[0;34m\u001b[0m\u001b[0m\n\u001b[0m\u001b[1;32m    126\u001b[0m \u001b[0;34m\u001b[0m\u001b[0m\n\u001b[1;32m    127\u001b[0m         \u001b[0;31m# Set extension\u001b[0m\u001b[0;34m\u001b[0m\u001b[0;34m\u001b[0m\u001b[0;34m\u001b[0m\u001b[0m\n",
            "\u001b[0;32m/usr/local/lib/python3.7/dist-packages/imageio/core/request.py\u001b[0m in \u001b[0;36m_parse_uri\u001b[0;34m(self, uri)\u001b[0m\n\u001b[1;32m    271\u001b[0m                 \u001b[0;31m# Reading: check that the file exists (but is allowed a dir)\u001b[0m\u001b[0;34m\u001b[0m\u001b[0;34m\u001b[0m\u001b[0;34m\u001b[0m\u001b[0m\n\u001b[1;32m    272\u001b[0m                 \u001b[0;32mif\u001b[0m \u001b[0;32mnot\u001b[0m \u001b[0mos\u001b[0m\u001b[0;34m.\u001b[0m\u001b[0mpath\u001b[0m\u001b[0;34m.\u001b[0m\u001b[0mexists\u001b[0m\u001b[0;34m(\u001b[0m\u001b[0mfn\u001b[0m\u001b[0;34m)\u001b[0m\u001b[0;34m:\u001b[0m\u001b[0;34m\u001b[0m\u001b[0;34m\u001b[0m\u001b[0m\n\u001b[0;32m--> 273\u001b[0;31m                     \u001b[0;32mraise\u001b[0m \u001b[0mFileNotFoundError\u001b[0m\u001b[0;34m(\u001b[0m\u001b[0;34m\"No such file: '%s'\"\u001b[0m \u001b[0;34m%\u001b[0m \u001b[0mfn\u001b[0m\u001b[0;34m)\u001b[0m\u001b[0;34m\u001b[0m\u001b[0;34m\u001b[0m\u001b[0m\n\u001b[0m\u001b[1;32m    274\u001b[0m             \u001b[0;32melse\u001b[0m\u001b[0;34m:\u001b[0m\u001b[0;34m\u001b[0m\u001b[0;34m\u001b[0m\u001b[0m\n\u001b[1;32m    275\u001b[0m                 \u001b[0;31m# Writing: check that the directory to write to does exist\u001b[0m\u001b[0;34m\u001b[0m\u001b[0;34m\u001b[0m\u001b[0;34m\u001b[0m\u001b[0m\n",
            "\u001b[0;31mFileNotFoundError\u001b[0m: No such file: '/content/DenseDepth/petko_test.png'"
          ]
        },
        {
          "output_type": "display_data",
          "data": {
            "text/plain": [
              "<Figure size 1440x1440 with 0 Axes>"
            ]
          },
          "metadata": {
            "tags": []
          }
        }
      ]
    },
    {
      "cell_type": "code",
      "metadata": {
        "id": "Qu74B_j0JBul"
      },
      "source": [
        "import os\n",
        "os.listdir()\n",
        "\n",
        "\n",
        "from pathlib import Path\n",
        "data_folder = Path(\"DenseDepth/\")\n",
        "file_to_open = data_folder / \"petko_test.png\""
      ],
      "execution_count": null,
      "outputs": []
    },
    {
      "cell_type": "code",
      "metadata": {
        "id": "Ra7GEtQBHUMS",
        "colab": {
          "base_uri": "https://localhost:8080/",
          "height": 90
        },
        "outputId": "c8153ab7-5565-447c-e7e7-ff289726aeb2"
      },
      "source": [
        "import numpy as np\n",
        "#Kinect settings for NYU v2 depth\n",
        "fx_rgb = 5.1885790117450188e+02;\n",
        "fy_rgb = 5.1946961112127485e+02;\n",
        "cx_rgb = 3.2558244941119034e+02;\n",
        "cy_rgb = 2.5373616633400465e+02;\n",
        "K=np.array([[fx_rgb, 0, cx_rgb, 0],[0, fy_rgb, cy_rgb, 0],[0,0, 1, 0]])\n",
        "print (K.shape)\n",
        "\n",
        "\n",
        "\n",
        "from PIL import Image\n",
        "petko_test_image= np.clip(np.asarray(Image.open((open(file_to_open, 'rb')) ), dtype=float) / 255, 0, 1)\n",
        "print (petko_test_image.shape)\n",
        "petko_test2=petko_test_image.copy()\n",
        "\n",
        "\n",
        "'''\n",
        "print(petko_test_image)\n",
        "\n",
        "plt.figure(figsize=(1,1))\n",
        "plt.imshow(petko_test_image)\n",
        "petko_test_image.shape\n",
        "\n",
        "np.linalg.inv(K) * np.array([0, 0, 1])\n",
        "\n",
        "'''\n"
      ],
      "execution_count": null,
      "outputs": [
        {
          "output_type": "stream",
          "text": [
            "(3, 4)\n",
            "(240, 320)\n"
          ],
          "name": "stdout"
        },
        {
          "output_type": "execute_result",
          "data": {
            "application/vnd.google.colaboratory.intrinsic+json": {
              "type": "string"
            },
            "text/plain": [
              "'\\nprint(petko_test_image)\\n\\nplt.figure(figsize=(1,1))\\nplt.imshow(petko_test_image)\\npetko_test_image.shape\\n\\nnp.linalg.inv(K) * np.array([0, 0, 1])\\n\\n'"
            ]
          },
          "metadata": {
            "tags": []
          },
          "execution_count": 146
        }
      ]
    },
    {
      "cell_type": "code",
      "metadata": {
        "id": "4L1qDYh2CBAr",
        "colab": {
          "base_uri": "https://localhost:8080/",
          "height": 1000
        },
        "outputId": "d3795183-e7aa-40ef-d1a8-e35c4b513625"
      },
      "source": [
        "print (np.min(petko_test_image))\n",
        "#K_inverse formula for Kinect\n",
        "K_inv = np.array([[1/fx_rgb, 0, -cx_rgb/fx_rgb], [0,1/fy_rgb,-cy_rgb/fy_rgb], [0, 0, 1]])\n",
        "\n",
        "#iPhone SE coefficients\n",
        "coeff=6.3\n",
        "u0=1.9989257139351400e+03\n",
        "v0=1.4611872259677407e+03\n",
        "fx_rgb=3.3180846117248893e+03\n",
        "fy_rgb=3.3164848380172425e+03\n",
        "\n",
        "K=np.array([[fx_rgb,0.0000000000000000e+00,u0],\n",
        "            [0,fy_rgb,v0],\n",
        "           [0,0,1]])\n",
        "\n",
        "\n",
        "\n",
        "K_inv=np.linalg.inv(K)\n",
        "print (K_inv.shape,petko_test_image.shape)\n",
        "\n",
        "\n",
        "#create 3D matrix\n",
        "#multi=np.array([petko_test_image,petko_test_image,petko_test_image])\n",
        "#petko_rgb= (np.stack(multi,axis=-1))\n",
        "\n",
        "print (petko_test_image.shape)\n",
        "\n",
        "\n",
        "#from https://stackoverflow.com/questions/23581238/distance-measurement-using-disparity-map\n",
        "#here x,y image coordinates of the plane are 0,0 in \"coord\" matrix below\n",
        "\n",
        "coord=np.array([0, 0, 1])\n",
        "u= np.matmul(K_inv,coord.transpose())\n",
        "#print (u.shape)\n",
        "#dist=petko_test_image[:, :, np.newaxis]*u\n",
        "#dist=petko_test_image*u\n",
        "dist2=np.matmul(petko_test2[:, :, np.newaxis],u[np.newaxis,:])\n",
        "print (dist2)\n",
        "\n",
        "\n",
        "'''\n",
        "import numpy as np\n",
        "fx_rgb = 5.1885790117450188e+02;\n",
        "fy_rgb = 5.1946961112127485e+02;\n",
        "cx_rgb = 3.2558244941119034e+02;\n",
        "cy_rgb = 2.5373616633400465e+02;\n",
        "K_inv = np.array([[1/fx_rgb, 0, -cx_rgb/fx_rgb], [0,1/fy_rgb,-cy_rgb/fy_rgb], [0, 0, 1]])\n",
        "\n",
        "K=np.array([[fx_rgb, 0, cx_rgb, 0],[0, fy_rgb, cy_rgb, 0],[0,0, 1, 0]])\n",
        "print (K.shape)\n",
        "K_inv * np.array([0, 0, 1])\n",
        "'''"
      ],
      "execution_count": null,
      "outputs": [
        {
          "output_type": "stream",
          "text": [
            "0.18823529411764706\n",
            "(3, 3) (240, 320)\n",
            "(240, 320)\n",
            "(3,)\n",
            "[[[-0.21900921 -0.17047946  0.34901961]\n",
            "  [-0.2091661  -0.16281746  0.33333333]\n",
            "  [-0.20670532 -0.16090196  0.32941176]\n",
            "  ...\n",
            "  [-0.19686221 -0.15323996  0.31372549]\n",
            "  [-0.19686221 -0.15323996  0.31372549]\n",
            "  [-0.20424454 -0.15898646  0.3254902 ]]\n",
            "\n",
            " [[-0.21654843 -0.16856396  0.34509804]\n",
            "  [-0.21900921 -0.17047946  0.34901961]\n",
            "  [-0.2091661  -0.16281746  0.33333333]\n",
            "  ...\n",
            "  [-0.19932299 -0.15515546  0.31764706]\n",
            "  [-0.19932299 -0.15515546  0.31764706]\n",
            "  [-0.19932299 -0.15515546  0.31764706]]\n",
            "\n",
            " [[-0.21654843 -0.16856396  0.34509804]\n",
            "  [-0.21654843 -0.16856396  0.34509804]\n",
            "  [-0.21162688 -0.16473296  0.3372549 ]\n",
            "  ...\n",
            "  [-0.20424454 -0.15898646  0.3254902 ]\n",
            "  [-0.20424454 -0.15898646  0.3254902 ]\n",
            "  [-0.20178377 -0.15707096  0.32156863]]\n",
            "\n",
            " ...\n",
            "\n",
            " [[-0.1427251  -0.11109897  0.22745098]\n",
            "  [-0.13780355 -0.10726797  0.21960784]\n",
            "  [-0.13288199 -0.10343697  0.21176471]\n",
            "  ...\n",
            "  [-0.13534277 -0.10535247  0.21568627]\n",
            "  [-0.14026433 -0.10918347  0.22352941]\n",
            "  [-0.1427251  -0.11109897  0.22745098]]\n",
            "\n",
            " [[-0.14518588 -0.11301447  0.23137255]\n",
            "  [-0.14026433 -0.10918347  0.22352941]\n",
            "  [-0.13534277 -0.10535247  0.21568627]\n",
            "  ...\n",
            "  [-0.14026433 -0.10918347  0.22352941]\n",
            "  [-0.14518588 -0.11301447  0.23137255]\n",
            "  [-0.14764666 -0.11492997  0.23529412]]\n",
            "\n",
            " [[-0.15010744 -0.11684547  0.23921569]\n",
            "  [-0.14518588 -0.11301447  0.23137255]\n",
            "  [-0.14026433 -0.10918347  0.22352941]\n",
            "  ...\n",
            "  [-0.13780355 -0.10726797  0.21960784]\n",
            "  [-0.14518588 -0.11301447  0.23137255]\n",
            "  [-0.15995055 -0.12450747  0.25490196]]]\n"
          ],
          "name": "stdout"
        },
        {
          "output_type": "execute_result",
          "data": {
            "application/vnd.google.colaboratory.intrinsic+json": {
              "type": "string"
            },
            "text/plain": [
              "'\\nimport numpy as np\\nfx_rgb = 5.1885790117450188e+02;\\nfy_rgb = 5.1946961112127485e+02;\\ncx_rgb = 3.2558244941119034e+02;\\ncy_rgb = 2.5373616633400465e+02;\\nK_inv = np.array([[1/fx_rgb, 0, -cx_rgb/fx_rgb], [0,1/fy_rgb,-cy_rgb/fy_rgb], [0, 0, 1]])\\n\\nK=np.array([[fx_rgb, 0, cx_rgb, 0],[0, fy_rgb, cy_rgb, 0],[0,0, 1, 0]])\\nprint (K.shape)\\nK_inv * np.array([0, 0, 1])\\n'"
            ]
          },
          "metadata": {
            "tags": []
          },
          "execution_count": 147
        }
      ]
    },
    {
      "cell_type": "code",
      "metadata": {
        "id": "nKuSk5gGcnFR"
      },
      "source": [
        "img_h=240\n",
        "img_w=320\n",
        "maxD=1 #maxD for DenseDepth is 10 \n",
        "depth=petko_test2\n",
        "\n",
        "#from https://towardsdatascience.com/inverse-projection-transformation-c866ccedef1c\n",
        "cam_points = np.zeros((img_h * img_w, 3))\n",
        "i = 0\n",
        "# Loop through each pixel in the image\n",
        "for v in range(height):\n",
        "    for u in range(width):\n",
        "        # Apply equation in fig 5\n",
        "        x = (u - u0) * maxD* depth[v, u] / fx_rgb\n",
        "        y = (v - v0) * maxD* depth[v, u] / fy_rgb\n",
        "        z = maxD*depth[v, u]\n",
        "        cam_points[i] = (x, y, z)\n",
        "        i += 1"
      ],
      "execution_count": null,
      "outputs": []
    },
    {
      "cell_type": "code",
      "metadata": {
        "id": "jc1IWKCPQKwr",
        "colab": {
          "base_uri": "https://localhost:8080/"
        },
        "outputId": "2a91b8e0-dec7-4c2e-823a-6ebbf5a2ab86"
      },
      "source": [
        "a=(207*.5,301*.5)\n",
        "cam_points_xyz=cam_points.reshape(240,320,3)\n",
        "\n",
        "#Distance Measurement. a and b represent the 2 x,y image points we are interested in measuring the distance between\n",
        "\n",
        "def distance_meas(matx,a,b):\n",
        "    deltax=np.square(matx[a][0]-matx[b][0])\n",
        "    deltay=np.square(matx[a][1]-matx[b][1])\n",
        "    deltaz=np.square(matx[a][2]-matx[b][2])\n",
        "    return (np.sqrt((deltax+deltay+deltaz)))\n",
        "\n",
        "dist=distance_meas(cam_points_xyz,(int(105*.5),int(204*.5)),(int(308*.5),int(206*.5)))\n",
        "\n",
        "print (b)"
      ],
      "execution_count": null,
      "outputs": [
        {
          "output_type": "stream",
          "text": [
            "(103.5, 150.5)\n",
            "[-1.54170656 -1.21811783  2.8627451 ]\n",
            "1.2363097495357511\n"
          ],
          "name": "stdout"
        },
        {
          "output_type": "execute_result",
          "data": {
            "text/plain": [
              "0.41914173105946545"
            ]
          },
          "metadata": {
            "tags": []
          },
          "execution_count": 153
        }
      ]
    },
    {
      "cell_type": "code",
      "metadata": {
        "id": "IPdxybAZ6ua7",
        "colab": {
          "base_uri": "https://localhost:8080/",
          "height": 337
        },
        "outputId": "839e1969-254f-4358-c200-af6f6edc058f"
      },
      "source": [
        "import cv2\n",
        "print (petko_test2,u.shape)\n",
        "\n",
        "\n",
        "K=np.array([[3.3180846117248893e+03/coeff,0.0000000000000000e+00,1.9989257139351400e+03/coeff,0],[0,3.3164848380172425e+03/coeff,1.4611872259677407e+03/coeff,0],\n",
        "           [0,0,1,0]])\n",
        "\n",
        "\n",
        "t=cv2.reprojectImageTo3D(petko_test2[:, :, np.newaxis],K)\n",
        "\n",
        "\n",
        "#cv2.perspectiveTransform(petko_test2,K_inv.transpose())"
      ],
      "execution_count": null,
      "outputs": [
        {
          "output_type": "stream",
          "text": [
            "[[0.17254902 0.17647059 0.17254902 ... 0.17254902 0.17647059 0.18039216]\n",
            " [0.17647059 0.17647059 0.17254902 ... 0.17647059 0.17647059 0.17647059]\n",
            " [0.18039216 0.17254902 0.16862745 ... 0.17254902 0.17254902 0.17254902]\n",
            " ...\n",
            " [0.15294118 0.15294118 0.15294118 ... 0.15294118 0.15294118 0.16470588]\n",
            " [0.15686275 0.15294118 0.15294118 ... 0.15294118 0.15294118 0.16470588]\n",
            " [0.15686275 0.15686275 0.15294118 ... 0.15294118 0.15686275 0.16470588]] (3, 1)\n"
          ],
          "name": "stdout"
        },
        {
          "output_type": "error",
          "ename": "error",
          "evalue": "ignored",
          "traceback": [
            "\u001b[0;31m---------------------------------------------------------------------------\u001b[0m",
            "\u001b[0;31merror\u001b[0m                                     Traceback (most recent call last)",
            "\u001b[0;32m<ipython-input-51-9d60fc445d5f>\u001b[0m in \u001b[0;36m<module>\u001b[0;34m()\u001b[0m\n\u001b[1;32m      7\u001b[0m \u001b[0;34m\u001b[0m\u001b[0m\n\u001b[1;32m      8\u001b[0m \u001b[0;34m\u001b[0m\u001b[0m\n\u001b[0;32m----> 9\u001b[0;31m \u001b[0mt\u001b[0m\u001b[0;34m=\u001b[0m\u001b[0mcv2\u001b[0m\u001b[0;34m.\u001b[0m\u001b[0mreprojectImageTo3D\u001b[0m\u001b[0;34m(\u001b[0m\u001b[0mpetko_test2\u001b[0m\u001b[0;34m[\u001b[0m\u001b[0;34m:\u001b[0m\u001b[0;34m,\u001b[0m \u001b[0;34m:\u001b[0m\u001b[0;34m,\u001b[0m \u001b[0mnp\u001b[0m\u001b[0;34m.\u001b[0m\u001b[0mnewaxis\u001b[0m\u001b[0;34m]\u001b[0m\u001b[0;34m,\u001b[0m\u001b[0mK\u001b[0m\u001b[0;34m)\u001b[0m\u001b[0;34m\u001b[0m\u001b[0;34m\u001b[0m\u001b[0m\n\u001b[0m\u001b[1;32m     10\u001b[0m \u001b[0;34m\u001b[0m\u001b[0m\n\u001b[1;32m     11\u001b[0m \u001b[0;34m\u001b[0m\u001b[0m\n",
            "\u001b[0;31merror\u001b[0m: OpenCV(4.1.2) /io/opencv/modules/calib3d/src/calibration.cpp:2988: error: (-215:Assertion failed) stype == CV_8UC1 || stype == CV_16SC1 || stype == CV_32SC1 || stype == CV_32FC1 in function 'reprojectImageTo3D'\n"
          ]
        }
      ]
    },
    {
      "cell_type": "code",
      "metadata": {
        "id": "_PPkh_cvWE6g"
      },
      "source": [
        "from google.colab import drive\n",
        "drive.mount('/content/drive')"
      ],
      "execution_count": null,
      "outputs": []
    },
    {
      "cell_type": "code",
      "metadata": {
        "id": "y-xXi1TAOPs0"
      },
      "source": [
        "from PIL import Image\n",
        "im = Image.fromarray(np.uint8(dist2*255))\n",
        "im.save('petko_test_mod.png')"
      ],
      "execution_count": null,
      "outputs": []
    },
    {
      "cell_type": "code",
      "metadata": {
        "id": "oI6-GMU3azl2",
        "colab": {
          "base_uri": "https://localhost:8080/",
          "height": 1000
        },
        "outputId": "f391be77-6050-4173-b214-5c9b9464baa3"
      },
      "source": [
        "!zip -r colab.zip DenseDepth/"
      ],
      "execution_count": null,
      "outputs": [
        {
          "output_type": "stream",
          "text": [
            "  adding: DenseDepth/ (stored 0%)\n",
            "  adding: DenseDepth/utils.py (deflated 67%)\n",
            "  adding: DenseDepth/__pycache__/ (stored 0%)\n",
            "  adding: DenseDepth/__pycache__/layers.cpython-36.pyc (deflated 46%)\n",
            "  adding: DenseDepth/__pycache__/utils.cpython-36.pyc (deflated 46%)\n",
            "  adding: DenseDepth/model.py (deflated 68%)\n",
            "  adding: DenseDepth/LICENSE (deflated 66%)\n",
            "  adding: DenseDepth/demo_depth.npy (deflated 47%)\n",
            "  adding: DenseDepth/nyu.h5 (deflated 8%)\n",
            "  adding: DenseDepth/test.py (deflated 49%)\n",
            "  adding: DenseDepth/.git/ (stored 0%)\n",
            "  adding: DenseDepth/.git/packed-refs (deflated 10%)\n",
            "  adding: DenseDepth/.git/refs/ (stored 0%)\n",
            "  adding: DenseDepth/.git/refs/heads/ (stored 0%)\n",
            "  adding: DenseDepth/.git/refs/heads/master (stored 0%)\n",
            "  adding: DenseDepth/.git/refs/tags/ (stored 0%)\n",
            "  adding: DenseDepth/.git/refs/remotes/ (stored 0%)\n",
            "  adding: DenseDepth/.git/refs/remotes/origin/ (stored 0%)\n",
            "  adding: DenseDepth/.git/refs/remotes/origin/HEAD (stored 0%)\n",
            "  adding: DenseDepth/.git/objects/ (stored 0%)\n",
            "  adding: DenseDepth/.git/objects/info/ (stored 0%)\n",
            "  adding: DenseDepth/.git/objects/pack/ (stored 0%)\n",
            "  adding: DenseDepth/.git/objects/pack/pack-5683b5f0e3468053cde54ecbda05e79a8bb6e58c.pack (deflated 0%)\n",
            "  adding: DenseDepth/.git/objects/pack/pack-5683b5f0e3468053cde54ecbda05e79a8bb6e58c.idx (deflated 10%)\n",
            "  adding: DenseDepth/.git/branches/ (stored 0%)\n",
            "  adding: DenseDepth/.git/config (deflated 34%)\n",
            "  adding: DenseDepth/.git/HEAD (stored 0%)\n",
            "  adding: DenseDepth/.git/description (deflated 14%)\n",
            "  adding: DenseDepth/.git/logs/ (stored 0%)\n",
            "  adding: DenseDepth/.git/logs/refs/ (stored 0%)\n",
            "  adding: DenseDepth/.git/logs/refs/heads/ (stored 0%)\n",
            "  adding: DenseDepth/.git/logs/refs/heads/master (deflated 29%)\n",
            "  adding: DenseDepth/.git/logs/refs/remotes/ (stored 0%)\n",
            "  adding: DenseDepth/.git/logs/refs/remotes/origin/ (stored 0%)\n",
            "  adding: DenseDepth/.git/logs/refs/remotes/origin/HEAD (deflated 29%)\n",
            "  adding: DenseDepth/.git/logs/HEAD (deflated 29%)\n",
            "  adding: DenseDepth/.git/index (deflated 50%)\n",
            "  adding: DenseDepth/.git/info/ (stored 0%)\n",
            "  adding: DenseDepth/.git/info/exclude (deflated 28%)\n",
            "  adding: DenseDepth/.git/hooks/ (stored 0%)\n",
            "  adding: DenseDepth/.git/hooks/prepare-commit-msg.sample (deflated 50%)\n",
            "  adding: DenseDepth/.git/hooks/commit-msg.sample (deflated 44%)\n",
            "  adding: DenseDepth/.git/hooks/pre-commit.sample (deflated 43%)\n",
            "  adding: DenseDepth/.git/hooks/update.sample (deflated 68%)\n",
            "  adding: DenseDepth/.git/hooks/post-update.sample (deflated 27%)\n",
            "  adding: DenseDepth/.git/hooks/pre-receive.sample (deflated 40%)\n",
            "  adding: DenseDepth/.git/hooks/pre-push.sample (deflated 50%)\n",
            "  adding: DenseDepth/.git/hooks/fsmonitor-watchman.sample (deflated 53%)\n",
            "  adding: DenseDepth/.git/hooks/pre-rebase.sample (deflated 59%)\n",
            "  adding: DenseDepth/.git/hooks/applypatch-msg.sample (deflated 42%)\n",
            "  adding: DenseDepth/.git/hooks/pre-applypatch.sample (deflated 38%)\n",
            "  adding: DenseDepth/README.md (deflated 56%)\n",
            "  adding: DenseDepth/augment.py (deflated 75%)\n",
            "  adding: DenseDepth/PyTorch/ (stored 0%)\n",
            "  adding: DenseDepth/PyTorch/utils.py (deflated 56%)\n",
            "  adding: DenseDepth/PyTorch/model.py (deflated 69%)\n",
            "  adding: DenseDepth/PyTorch/loss.py (deflated 62%)\n",
            "  adding: DenseDepth/PyTorch/data.py (deflated 70%)\n",
            "  adding: DenseDepth/PyTorch/train.py (deflated 65%)\n",
            "  adding: DenseDepth/loss.py (deflated 49%)\n",
            "  adding: DenseDepth/DenseDepth.ipynb (deflated 26%)\n",
            "  adding: DenseDepth/demo.py (deflated 69%)\n",
            "  adding: DenseDepth/demo_rgb.npy (deflated 12%)\n",
            "  adding: DenseDepth/.ipynb_checkpoints/ (stored 0%)\n",
            "  adding: DenseDepth/data.py (deflated 79%)\n",
            "  adding: DenseDepth/train.py (deflated 63%)\n",
            "  adding: DenseDepth/.gitignore (deflated 6%)\n",
            "  adding: DenseDepth/layers.py (deflated 73%)\n",
            "  adding: DenseDepth/Tensorflow/ (stored 0%)\n",
            "  adding: DenseDepth/Tensorflow/model.py (deflated 68%)\n",
            "  adding: DenseDepth/Tensorflow/Evaluate.ipynb (deflated 62%)\n",
            "  adding: DenseDepth/Tensorflow/loss.py (deflated 50%)\n",
            "  adding: DenseDepth/Tensorflow/DenseDepth.ipynb (deflated 70%)\n",
            "  adding: DenseDepth/Tensorflow/data.py (deflated 61%)\n",
            "  adding: DenseDepth/Tensorflow/evaluate.py (deflated 63%)\n",
            "  adding: DenseDepth/petko_test.png (stored 0%)\n",
            "  adding: DenseDepth/examples/ (stored 0%)\n",
            "  adding: DenseDepth/examples/626_image.png (deflated 0%)\n",
            "  adding: DenseDepth/examples/iphoneSE2_min.jpg (deflated 1%)\n",
            "  adding: DenseDepth/examples/119_image.png (deflated 0%)\n",
            "  adding: DenseDepth/examples/iphoneSE_min.jpg (deflated 1%)\n",
            "  adding: DenseDepth/examples/499_image.png (deflated 0%)\n",
            "  adding: DenseDepth/examples/358_image.png (deflated 0%)\n",
            "  adding: DenseDepth/examples/312_image.png (deflated 0%)\n",
            "  adding: DenseDepth/examples/377_image.png (deflated 0%)\n",
            "  adding: DenseDepth/examples/1_image.png (deflated 0%)\n",
            "  adding: DenseDepth/examples/.ipynb_checkpoints/ (stored 0%)\n",
            "  adding: DenseDepth/examples/140_image.png (deflated 0%)\n",
            "  adding: DenseDepth/examples/308_image.png (deflated 0%)\n",
            "  adding: DenseDepth/examples/267_image.png (deflated 0%)\n",
            "  adding: DenseDepth/examples/11_image.png (deflated 0%)\n",
            "  adding: DenseDepth/examples/470_image.png (deflated 0%)\n",
            "  adding: DenseDepth/callbacks.py (deflated 65%)\n",
            "  adding: DenseDepth/evaluate.py (deflated 53%)\n"
          ],
          "name": "stdout"
        }
      ]
    },
    {
      "cell_type": "code",
      "metadata": {
        "id": "_atZSc_idY5S",
        "colab": {
          "base_uri": "https://localhost:8080/",
          "height": 115
        },
        "outputId": "a6279f3c-7369-4547-9999-277e7c89a0d9"
      },
      "source": [
        "!ls -l ./"
      ],
      "execution_count": null,
      "outputs": [
        {
          "output_type": "stream",
          "text": [
            "total 224504\n",
            "-rw-r--r-- 1 root root 183656061 Jul  3 16:05 bears.zip\n",
            "drwxr-xr-x 8 root root      4096 Jul  3 15:09 DenseDepth\n",
            "-rw-r--r-- 1 root root     22909 Jul  3 15:09 petko_test_mod.png\n",
            "drwxr-xr-x 1 root root      4096 Jun 26 16:26 sample_data\n",
            "-rw-r--r-- 1 root root  46199291 Jul  3 14:33 v1.15.3.tar.gz\n"
          ],
          "name": "stdout"
        }
      ]
    },
    {
      "cell_type": "code",
      "metadata": {
        "id": "YAHYRbnCwWH0",
        "colab": {
          "base_uri": "https://localhost:8080/",
          "height": 1000
        },
        "outputId": "31b3051c-7184-4541-e3eb-d4ae1aaede1f"
      },
      "source": [
        "!unzip bears.zip"
      ],
      "execution_count": null,
      "outputs": [
        {
          "output_type": "stream",
          "text": [
            "Archive:  bears.zip\n",
            "   creating: DenseDepth/\n",
            "  inflating: DenseDepth/test.py      \n",
            " extracting: DenseDepth/petko_test.png  \n",
            "  inflating: DenseDepth/nyu.h5       \n",
            "  inflating: DenseDepth/callbacks.py  \n",
            "   creating: DenseDepth/.ipynb_checkpoints/\n",
            "  inflating: DenseDepth/README.md    \n",
            "  inflating: DenseDepth/DenseDepth.ipynb  \n",
            "   creating: DenseDepth/Tensorflow/\n",
            "  inflating: DenseDepth/Tensorflow/Evaluate.ipynb  \n",
            "  inflating: DenseDepth/Tensorflow/DenseDepth.ipynb  \n",
            "  inflating: DenseDepth/Tensorflow/model.py  \n",
            "  inflating: DenseDepth/Tensorflow/loss.py  \n",
            "  inflating: DenseDepth/Tensorflow/evaluate.py  \n",
            "  inflating: DenseDepth/Tensorflow/data.py  \n",
            "  inflating: DenseDepth/model.py     \n",
            "  inflating: DenseDepth/loss.py      \n",
            "  inflating: DenseDepth/LICENSE      \n",
            "  inflating: DenseDepth/demo_rgb.npy  \n",
            "  inflating: DenseDepth/evaluate.py  \n",
            "  inflating: DenseDepth/utils.py     \n",
            "  inflating: DenseDepth/train.py     \n",
            "  inflating: DenseDepth/layers.py    \n",
            "  inflating: DenseDepth/.gitignore   \n",
            "   creating: DenseDepth/.git/\n",
            "   creating: DenseDepth/.git/branches/\n",
            "   creating: DenseDepth/.git/logs/\n",
            "  inflating: DenseDepth/.git/logs/HEAD  \n",
            "   creating: DenseDepth/.git/logs/refs/\n",
            "   creating: DenseDepth/.git/logs/refs/heads/\n",
            "  inflating: DenseDepth/.git/logs/refs/heads/master  \n",
            "   creating: DenseDepth/.git/logs/refs/remotes/\n",
            "   creating: DenseDepth/.git/logs/refs/remotes/origin/\n",
            "  inflating: DenseDepth/.git/logs/refs/remotes/origin/HEAD  \n",
            "  inflating: DenseDepth/.git/description  \n",
            "   creating: DenseDepth/.git/objects/\n",
            "   creating: DenseDepth/.git/objects/info/\n",
            "   creating: DenseDepth/.git/objects/pack/\n",
            "  inflating: DenseDepth/.git/objects/pack/pack-5683b5f0e3468053cde54ecbda05e79a8bb6e58c.idx  \n",
            "  inflating: DenseDepth/.git/objects/pack/pack-5683b5f0e3468053cde54ecbda05e79a8bb6e58c.pack  \n",
            "  inflating: DenseDepth/.git/config  \n",
            "  inflating: DenseDepth/.git/packed-refs  \n",
            "   creating: DenseDepth/.git/hooks/\n",
            "  inflating: DenseDepth/.git/hooks/pre-receive.sample  \n",
            "  inflating: DenseDepth/.git/hooks/post-update.sample  \n",
            "  inflating: DenseDepth/.git/hooks/pre-commit.sample  \n",
            "  inflating: DenseDepth/.git/hooks/update.sample  \n",
            "  inflating: DenseDepth/.git/hooks/pre-applypatch.sample  \n",
            "  inflating: DenseDepth/.git/hooks/pre-push.sample  \n",
            "  inflating: DenseDepth/.git/hooks/fsmonitor-watchman.sample  \n",
            "  inflating: DenseDepth/.git/hooks/commit-msg.sample  \n",
            "  inflating: DenseDepth/.git/hooks/pre-rebase.sample  \n",
            "  inflating: DenseDepth/.git/hooks/applypatch-msg.sample  \n",
            "  inflating: DenseDepth/.git/hooks/prepare-commit-msg.sample  \n",
            "   creating: DenseDepth/.git/info/\n",
            "  inflating: DenseDepth/.git/info/exclude  \n",
            "  inflating: DenseDepth/.git/index   \n",
            " extracting: DenseDepth/.git/HEAD    \n",
            "   creating: DenseDepth/.git/refs/\n",
            "   creating: DenseDepth/.git/refs/heads/\n",
            " extracting: DenseDepth/.git/refs/heads/master  \n",
            "   creating: DenseDepth/.git/refs/remotes/\n",
            "   creating: DenseDepth/.git/refs/remotes/origin/\n",
            " extracting: DenseDepth/.git/refs/remotes/origin/HEAD  \n",
            "   creating: DenseDepth/.git/refs/tags/\n",
            "  inflating: DenseDepth/demo.py      \n",
            "   creating: DenseDepth/examples/\n",
            "  inflating: DenseDepth/examples/308_image.png  \n",
            "  inflating: DenseDepth/examples/11_image.png  \n",
            "  inflating: DenseDepth/examples/312_image.png  \n",
            "  inflating: DenseDepth/examples/140_image.png  \n",
            "  inflating: DenseDepth/examples/358_image.png  \n",
            "  inflating: DenseDepth/examples/626_image.png  \n",
            "  inflating: DenseDepth/examples/470_image.png  \n",
            "  inflating: DenseDepth/examples/377_image.png  \n",
            "  inflating: DenseDepth/examples/499_image.png  \n",
            "  inflating: DenseDepth/examples/1_image.png  \n",
            "  inflating: DenseDepth/examples/267_image.png  \n",
            "  inflating: DenseDepth/examples/119_image.png  \n",
            "  inflating: DenseDepth/demo_depth.npy  \n",
            "  inflating: DenseDepth/data.py      \n",
            "   creating: DenseDepth/__pycache__/\n",
            "  inflating: DenseDepth/__pycache__/layers.cpython-36.pyc  \n",
            "  inflating: DenseDepth/__pycache__/utils.cpython-36.pyc  \n",
            "   creating: DenseDepth/PyTorch/\n",
            "  inflating: DenseDepth/PyTorch/model.py  \n",
            "  inflating: DenseDepth/PyTorch/loss.py  \n",
            "  inflating: DenseDepth/PyTorch/utils.py  \n",
            "  inflating: DenseDepth/PyTorch/train.py  \n",
            "  inflating: DenseDepth/PyTorch/data.py  \n",
            "  inflating: DenseDepth/augment.py   \n",
            "  inflating: test.py                 \n"
          ],
          "name": "stdout"
        }
      ]
    }
  ]
}